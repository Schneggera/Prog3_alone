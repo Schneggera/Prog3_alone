{
 "cells": [
  {
   "cell_type": "code",
   "execution_count": 24,
   "metadata": {},
   "outputs": [
    {
     "name": "stdout",
     "output_type": "stream",
     "text": [
      "[1.0, 0.19876611034641298, -0.007621995182886547, -0.00012217478005274374, -7.355789907801574e-08, 3.939484508326299e-12, 2.2271369008070363e-16]\n"
     ]
    }
   ],
   "source": [
    "#calc cos(x)*e^-x^2 without loop\n",
    "import math\n",
    "a = list(range(0, 7))\n",
    "\n",
    "def calc(x):\n",
    "    return math.cos(x)*math.exp(-x**2)\n",
    "\n",
    "b = list(map(calc, a))\n",
    "print(b)"
   ]
  },
  {
   "cell_type": "code",
   "execution_count": 31,
   "metadata": {},
   "outputs": [
    {
     "name": "stdout",
     "output_type": "stream",
     "text": [
      "25\n"
     ]
    }
   ],
   "source": [
    "#get max from list\n",
    "import functools\n",
    "a = [2, 25 , 7, 15, 3, 20]\n",
    "\n",
    "def get_max(x1, x2):\n",
    "    return x2 if x2 > x1 else x1\n",
    "    \n",
    "print(functools.reduce(get_max, a))"
   ]
  }
 ],
 "metadata": {
  "kernelspec": {
   "display_name": "Python 3",
   "language": "python",
   "name": "python3"
  },
  "language_info": {
   "codemirror_mode": {
    "name": "ipython",
    "version": 3
   },
   "file_extension": ".py",
   "mimetype": "text/x-python",
   "name": "python",
   "nbconvert_exporter": "python",
   "pygments_lexer": "ipython3",
   "version": "3.6.7"
  }
 },
 "nbformat": 4,
 "nbformat_minor": 2
}
