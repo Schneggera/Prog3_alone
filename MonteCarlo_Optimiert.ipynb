{
 "cells": [
  {
   "cell_type": "code",
   "execution_count": 7,
   "metadata": {},
   "outputs": [
    {
     "name": "stdout",
     "output_type": "stream",
     "text": [
      "3.141032\n",
      "3.1424196\n",
      "3.1413068\n",
      "3.141624\n",
      "3.1421908\n",
      "3.14144\n",
      "3.1407348\n",
      "3.1426236\n",
      "5.06 s ± 442 ms per loop (mean ± std. dev. of 7 runs, 1 loop each)\n"
     ]
    },
    {
     "data": {
      "text/plain": [
       "'profiler = pprofile.Profile()\\nwith profiler:\\n    monte_carlo()\\nprofiler.print_stats()'"
      ]
     },
     "execution_count": 7,
     "metadata": {},
     "output_type": "execute_result"
    }
   ],
   "source": [
    "'''importiert Randomfunktion'''\n",
    "import random\n",
    "import pprofile\n",
    "\n",
    "\n",
    "def monte_carlo():\n",
    "    '''berechnet Pi'''\n",
    "    hits = i = 0\n",
    "    run = 10000000\n",
    "    while i < run:\n",
    "        x = random.random()\n",
    "        y = random.random()\n",
    "        if x*x + y*y <= 1:\n",
    "            hits += 1\n",
    "        i += 1\n",
    "    print(4*hits/run)\n",
    "\n",
    "\n",
    "%timeit monte_carlo()\n",
    "#%prun monte_carlo()\n",
    "'''profiler = pprofile.Profile()\n",
    "with profiler:\n",
    "    monte_carlo()\n",
    "profiler.print_stats()'''"
   ]
  },
  {
   "cell_type": "code",
   "execution_count": 48,
   "metadata": {},
   "outputs": [
    {
     "name": "stdout",
     "output_type": "stream",
     "text": [
      "The Cython extension is already loaded. To reload it, use:\n",
      "  %reload_ext Cython\n"
     ]
    }
   ],
   "source": [
    "%load_ext Cython"
   ]
  },
  {
   "cell_type": "code",
   "execution_count": 59,
   "metadata": {},
   "outputs": [
    {
     "ename": "SyntaxError",
     "evalue": "invalid syntax (<ipython-input-59-0ecfaa68fe42>, line 5)",
     "output_type": "error",
     "traceback": [
      "\u001b[1;36m  File \u001b[1;32m\"<ipython-input-59-0ecfaa68fe42>\"\u001b[1;36m, line \u001b[1;32m5\u001b[0m\n\u001b[1;33m    cpdef double monte_carlo():\u001b[0m\n\u001b[1;37m               ^\u001b[0m\n\u001b[1;31mSyntaxError\u001b[0m\u001b[1;31m:\u001b[0m invalid syntax\n"
     ]
    }
   ],
   "source": [
    "'''importiert Randomfunktion'''\n",
    "import random\n",
    "%%cython -a\n",
    "\n",
    "cpdef double monte_carlo():\n",
    "    '''berechnet Pi'''\n",
    "    cdef int hits = 0\n",
    "    cdef int  i = 0\n",
    "    cdef long run = 10000000\n",
    "    while i < run:\n",
    "        x = random.random()\n",
    "        y = random.random()\n",
    "        if x*x + y*y <= 1:\n",
    "            hits += 1\n",
    "        i += 1\n",
    "    return 4*hits/run\n",
    "\n",
    "\n",
    "%timeit monte_carlo()"
   ]
  },
  {
   "cell_type": "code",
   "execution_count": 6,
   "metadata": {},
   "outputs": [
    {
     "name": "stdout",
     "output_type": "stream",
     "text": [
      "3.1411992\n",
      "3.1413944\n",
      "3.1413628\n",
      "3.1411492\n",
      "3.1419248\n",
      "3.1422824\n",
      "3.1417044\n",
      "3.1420688\n",
      "176 ms ± 28.7 ms per loop (mean ± std. dev. of 7 runs, 1 loop each)\n"
     ]
    }
   ],
   "source": [
    "'''importiert Randomfunktion'''\n",
    "import random\n",
    "from numba import jit\n",
    "import pprofile\n",
    "\n",
    "@jit\n",
    "def monte_carlo():\n",
    "    '''berechnet Pi'''\n",
    "    hits = i = 0\n",
    "    run = 10000000\n",
    "    while i < run:\n",
    "        x = random.random()\n",
    "        y = random.random()\n",
    "        if x*x + y*y <= 1:\n",
    "            hits += 1\n",
    "        i += 1\n",
    "    print(4*hits/run)\n",
    "\n",
    "\n",
    "%timeit monte_carlo()\n",
    "#%prun monte_carlo()"
   ]
  }
 ],
 "metadata": {
  "kernelspec": {
   "display_name": "Python 3",
   "language": "python",
   "name": "python3"
  },
  "language_info": {
   "codemirror_mode": {
    "name": "ipython",
    "version": 3
   },
   "file_extension": ".py",
   "mimetype": "text/x-python",
   "name": "python",
   "nbconvert_exporter": "python",
   "pygments_lexer": "ipython3",
   "version": "3.6.7"
  }
 },
 "nbformat": 4,
 "nbformat_minor": 2
}
